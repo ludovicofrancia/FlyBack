{
  "cells": [
    {
      "cell_type": "code",
      "execution_count": 8,
      "metadata": {
        "id": "hypgvbxTv-W4"
      },
      "outputs": [],
      "source": [
        "from main import main\n",
        "main()"
      ]
    },
    {
      "cell_type": "markdown",
      "metadata": {
        "id": "ZJG7OV--_94t"
      },
      "source": [
        "# Example of 'Basic Search'\n",
        "\n",
        "E.g. \"Search for 2-passenger direct flights from CPH airport to BER airport, departing on 2025-01-24 with minimum departure time 11:15 and returning on 2025-01-30 with maximum arrival time 18:00.\""
      ]
    },
    {
      "cell_type": "code",
      "execution_count": 13,
      "metadata": {
        "colab": {
          "base_uri": "https://localhost:8080/"
        },
        "id": "BojS3U-5x-nT",
        "outputId": "b7b6e5d9-23ad-46f1-ce49-b494ee7ee36a"
      },
      "outputs": [
        {
          "name": "stdout",
          "output_type": "stream",
          "text": [
            "\n",
            "--- --- Welcome to Flyback! --- --- \n",
            "\n",
            "\n",
            "---- ---- ----\n",
            "Select an option:\n",
            "[1] Basic Search: \n",
            "e.g. 'Search for 2-passenger direct flights from CPH airport to BER airport, departing on 2025-01-24 with minimum departure time 11:15 and returning on 2025-01-30 with maximum arrival time 18:00.' \n",
            "\n",
            "[2] Search by specific days of the week: \n",
            "e.g. 'Search for direct flights for the CPH-FCO route during the period 2025-01-01 - 2025-02-28 for 3 passengers departing on a Friday and returning on the following Sunday.' \n",
            "\n",
            "[3] Exit\n",
            "---- ---- ----\n",
            "\n",
            "Enter your choice: 1\n",
            "--- --- --- \n",
            "You can choose between two options: \n",
            "1. Use API to access real data (Note: API calls are limited and can make the program slower.\n",
            "2. Use dummy data for faster execution.\n",
            "--- --- ---\n",
            "Enter your choice: 1\n",
            "The program will use real data from Amadeus API.\n",
            "\n",
            "\n",
            "-- Basic Search --\n",
            "e.g. 'Search for 2-passenger direct flights from CPH airport to BER airport, departing on 2025-01-24 with minimum departure time 11:15 and returning on 2025-01-30 with maximum arrival time 18:00.' \n",
            "\n",
            "City Name (IATA Code):\n",
            " Amsterdam (AMS)       Athens (ATH)    Belgrade (BEG)        Berlin (BER)    Bratislava (BTS)   \n",
            "  Brussels (BRU)    Bucharest (OTP)    Budapest (BUD)    Copenhagen (CPH)        Dublin (DUB)   \n",
            "  Helsinki (HEL)       Lisbon (LIS)      London (LHR)        London (LGW)        London (LCY)   \n",
            "Luxembourg (LUX)       Madrid (MAD)        Oslo (OSL)         Paris (CDG)         Paris (ORY)   \n",
            "    Prague (PRG)    Reykjavik (KEF)        Riga (RIX)          Rome (FCO)          Rome (CIA)   \n",
            "     Sofia (SOF)    Stockholm (STO)     Tallinn (TLL)      Valletta (MLA)        Vienna (VIE)   \n",
            "   Vilnius (VNO)       Warsaw (WAW)      Zagreb (ZAG)        Zurich (ZRH)                   None\n",
            "\n",
            "\n",
            "Enter the IATA code of the departure airport: CPH\n",
            "Enter the IATA code of the destination airport: BER\n",
            "Enter the number of passengers: 2\n",
            "Enter your departure date (YYYY-MM-DD e.g. 2024-12-23): 2025-01-24\n",
            "Enter DEPARTURE time from (HH:MM e.g. 16:10) [optional]: 11:15\n",
            "Enter your return date (YYYY-MM-DD e.g. 2024-12-30) [optional]: 2025-01-30\n",
            "Enter the maximum ARRIVAL time  (HH:MM e.g. 22:00) [optional]: 18:00\n",
            "\n",
            "--- ---\n",
            "Searching flights from CPH to BER (minimum departing time: 11:15) on 2025-01-24 for 2 passenger(s)...\n",
            "Available departing flights: 1 \n",
            "---\n",
            "\n",
            "---\n",
            "Searching return flights from BER to CPH (maximum arrival time: 18:00) on 2025-01-30...\n",
            "Available returning flights: 3 \n",
            "---\n",
            "\n",
            "Search completed! \n",
            "--- ---\n",
            "\n",
            " ----------------------------------------\n",
            "Available Departing Flights:\n",
            "1) From: CPH (Copenhagen) - To: BER (Berlin)\n",
            "  - Airline: Scandinavian Airlines (SAS)\n",
            "  - Departure Time: 14:10:00 - 2025-01-24\n",
            "  - Arrival Time: 15:10:00 - 2025-01-24\n",
            "  - Duration: 1H \n",
            "  - Price: 280.04 EUR \n",
            "\n",
            "Available Returning Flights:\n",
            "1) From: BER (Berlin) - To: CPH (Copenhagen)\n",
            "  - Airline: Norwegian Air Shuttle\n",
            "  - Departure Time: 12:30:00 - 2025-01-30\n",
            "  - Arrival Time: 13:30:00 - 2025-01-30\n",
            "  - Duration: 1H \n",
            "  - Price: 94.84 EUR \n",
            "\n",
            "2) From: BER (Berlin) - To: CPH (Copenhagen)\n",
            "  - Airline: Scandinavian Airlines (SAS)\n",
            "  - Departure Time: 15:50:00 - 2025-01-30\n",
            "  - Arrival Time: 16:50:00 - 2025-01-30\n",
            "  - Duration: 1H \n",
            "  - Price: 313.84 EUR \n",
            "\n",
            "3) From: BER (Berlin) - To: CPH (Copenhagen)\n",
            "  - Airline: Scandinavian Airlines (SAS)\n",
            "  - Departure Time: 10:15:00 - 2025-01-30\n",
            "  - Arrival Time: 11:30:00 - 2025-01-30\n",
            "  - Duration: 1H15M \n",
            "  - Price: 401.84 EUR \n",
            "\n",
            "---------------------------------------- \n",
            "\n",
            "\n",
            "---- ---- ----\n",
            "Select an option:\n",
            "[1] Basic Search: \n",
            "e.g. 'Search for 2-passenger direct flights from CPH airport to BER airport, departing on 2025-01-24 with minimum departure time 11:15 and returning on 2025-01-30 with maximum arrival time 18:00.' \n",
            "\n",
            "[2] Search by specific days of the week: \n",
            "e.g. 'Search for direct flights for the CPH-FCO route during the period 2025-01-01 - 2025-02-28 for 3 passengers departing on a Friday and returning on the following Sunday.' \n",
            "\n",
            "[3] Exit\n",
            "---- ---- ----\n",
            "\n",
            "Enter your choice: 3\n",
            "\n",
            " Thank you for using FlyBack! \n",
            "\n"
          ]
        }
      ],
      "source": [
        "main()"
      ]
    },
    {
      "cell_type": "markdown",
      "metadata": {
        "id": "X0j-UX-jAI_g"
      },
      "source": [
        "# Example of 'Search by specific days of the week'\n",
        "E.g. \"Search for direct flights for the CPH-FCO route during the period 2025-01-01 - 2025-02-28 for 3 passengers departing on a Friday and returning on the following Sunday.\"\n"
      ]
    },
    {
      "cell_type": "code",
      "execution_count": 14,
      "metadata": {
        "colab": {
          "base_uri": "https://localhost:8080/"
        },
        "id": "wFFMML1h05bP",
        "outputId": "3c436dd6-aae5-410a-98f0-b2048a981b47"
      },
      "outputs": [
        {
          "name": "stdout",
          "output_type": "stream",
          "text": [
            "\n",
            "--- --- Welcome to Flyback! --- --- \n",
            "\n",
            "\n",
            "---- ---- ----\n",
            "Select an option:\n",
            "[1] Basic Search: \n",
            "e.g. 'Search for 2-passenger direct flights from CPH airport to BER airport, departing on 2025-01-24 with minimum departure time 11:15 and returning on 2025-01-30 with maximum arrival time 18:00.' \n",
            "\n",
            "[2] Search by specific days of the week: \n",
            "e.g. 'Search for direct flights for the CPH-FCO route during the period 2025-01-01 - 2025-02-28 for 3 passengers departing on a Friday and returning on the following Sunday.' \n",
            "\n",
            "[3] Exit\n",
            "---- ---- ----\n",
            "\n",
            "Enter your choice: 2\n",
            "--- --- --- \n",
            "You can choose between two options: \n",
            "1. Use API to access real data (Note: API calls are limited and can make the program slower.\n",
            "2. Use dummy data for faster execution.\n",
            "--- --- ---\n",
            "Enter your choice: 1\n",
            "The program will use real data from Amadeus API.\n",
            "\n",
            "\n",
            "-- WeekDays Search --\n",
            "e.g. 'Search for direct flights for the CPH-FCO route during the period 2025-01-01 - 2025-02-28 for 3 passengers departing on a Friday and returning on the following Sunday.' \n",
            "\n",
            "City Name (IATA Code):\n",
            " Amsterdam (AMS)       Athens (ATH)    Belgrade (BEG)        Berlin (BER)    Bratislava (BTS)   \n",
            "  Brussels (BRU)    Bucharest (OTP)    Budapest (BUD)    Copenhagen (CPH)        Dublin (DUB)   \n",
            "  Helsinki (HEL)       Lisbon (LIS)      London (LHR)        London (LGW)        London (LCY)   \n",
            "Luxembourg (LUX)       Madrid (MAD)        Oslo (OSL)         Paris (CDG)         Paris (ORY)   \n",
            "    Prague (PRG)    Reykjavik (KEF)        Riga (RIX)          Rome (FCO)          Rome (CIA)   \n",
            "     Sofia (SOF)    Stockholm (STO)     Tallinn (TLL)      Valletta (MLA)        Vienna (VIE)   \n",
            "   Vilnius (VNO)       Warsaw (WAW)      Zagreb (ZAG)        Zurich (ZRH)                   None\n",
            "\n",
            "\n",
            "Enter the IATA code of the departure airport: CPH\n",
            "Enter the IATA code of the destination airport: FCO\n",
            "Enter the number of passengers: 3\n",
            "Enter your preferred departure day of the week (e.g. Monday): Friday\n",
            "Enter your preferred return day of the week (e.g. Tuesday): Sunday\n",
            "Enter DEPARTURE date from (YYYY-MM-DD e.g. 2024-12-23): 2025-01-01\n",
            "Enter maximum RETURN date on (YYYY-MM-DD e.g. 2024-12-23): 2025-02-28\n",
            "Looking for all possible combinations of dates compatible with the filters entered...\n",
            "Combinations of dates that match the filters entered: 8\n",
            "Searching for cheap flights for the dates found...\n",
            "\n",
            " ----------------------------------------\n",
            "You are looking for a round trip with the following characteristics: \n",
            "- Range: 2025-01-01 - 2025-02-28 \n",
            "- Passenger/s: 3 \n",
            "- Departure day: FRIDAY \n",
            "- Returning day: SUNDAY \n",
            "\n",
            "Cheapest Option: \n",
            "- Departure Flight: FRIDAY 2025-02-21 12:15:00 (€236.34) \n",
            "- Return Flight: SUNDAY 2025-02-23 13:45:00 (€416.97) \n",
            "- Total Price: €653.31 \n",
            "\n",
            "Other Options: \n",
            "1) FRIDAY 2025-01-03 12:15:00 - SUNDAY 2025-01-05 11:15:00 (Total Price: €779.31)\n",
            "2) FRIDAY 2025-01-10 11:15:00 - SUNDAY 2025-01-12 11:15:00 (Total Price: €818.82)\n",
            "3) FRIDAY 2025-01-17 11:15:00 - SUNDAY 2025-01-19 11:15:00 (Total Price: €860.82)\n",
            "4) FRIDAY 2025-01-24 11:15:00 - SUNDAY 2025-01-26 11:15:00 (Total Price: €860.82)\n",
            "5) FRIDAY 2025-02-07 12:15:00 - SUNDAY 2025-02-09 11:15:00 (Total Price: €896.31)\n",
            "6) FRIDAY 2025-02-14 12:15:00 - SUNDAY 2025-02-16 11:25:00 (Total Price: €969.81)\n",
            "7) FRIDAY 2025-01-31 11:15:00 - SUNDAY 2025-02-02 11:15:00 (Total Price: €1070.82)\n",
            "---------------------------------------- \n",
            "\n",
            "\n",
            "---- ---- ----\n",
            "Select an option:\n",
            "[1] Basic Search: \n",
            "e.g. 'Search for 2-passenger direct flights from CPH airport to BER airport, departing on 2025-01-24 with minimum departure time 11:15 and returning on 2025-01-30 with maximum arrival time 18:00.' \n",
            "\n",
            "[2] Search by specific days of the week: \n",
            "e.g. 'Search for direct flights for the CPH-FCO route during the period 2025-01-01 - 2025-02-28 for 3 passengers departing on a Friday and returning on the following Sunday.' \n",
            "\n",
            "[3] Exit\n",
            "---- ---- ----\n",
            "\n",
            "Enter your choice: 3\n",
            "\n",
            " Thank you for using FlyBack! \n",
            "\n"
          ]
        }
      ],
      "source": [
        "main()"
      ]
    }
  ],
  "metadata": {
    "colab": {
      "provenance": []
    },
    "kernelspec": {
      "display_name": "Python 3",
      "name": "python3"
    },
    "language_info": {
      "name": "python",
      "version": "3.13.1"
    }
  },
  "nbformat": 4,
  "nbformat_minor": 0
}
